{
 "cells": [
  {
   "cell_type": "markdown",
   "metadata": {},
   "source": [
    "# CIS-PD Form Data\n",
    "\n",
    "Use datadictionary and codelist to convert the scores on each form. Save each file in a pickle format."
   ]
  },
  {
   "cell_type": "code",
   "execution_count": 1,
   "metadata": {},
   "outputs": [
    {
     "name": "stderr",
     "output_type": "stream",
     "text": [
      "C:\\Users\\lu-rto\\AppData\\Local\\Continuum\\anaconda3\\lib\\site-packages\\h5py\\__init__.py:36: FutureWarning: Conversion of the second argument of issubdtype from `float` to `np.floating` is deprecated. In future, it will be treated as `np.float64 == np.dtype(float).type`.\n",
      "  from ._conv import register_converters as _register_converters\n"
     ]
    }
   ],
   "source": [
    "# import packages\n",
    "import os\n",
    "import platform # don't need\n",
    "import pandas as pd\n",
    "import re\n",
    "import h5py #save hdf5 but pandas has a function...\n",
    "import numpy as np"
   ]
  },
  {
   "cell_type": "markdown",
   "metadata": {},
   "source": [
    "## Clean up data dictionary and codelist"
   ]
  },
  {
   "cell_type": "code",
   "execution_count": 2,
   "metadata": {},
   "outputs": [],
   "source": [
    "dd = pd.read_sas('Y:\\CIS-PD MUSC\\datadictionary.sas7bdat')\n",
    "dd.columns = dd.columns.str.replace('z', '')\n",
    "del dd['CRFNb']\n",
    "del dd['FieldNm']\n",
    "del dd['SASNm']\n",
    "del dd['SASLabel']\n",
    "del dd['FieldTypeNm']\n",
    "del dd['Length']\n",
    "del dd['Unit']\n",
    "del dd['Required']\n",
    "dd = dd.dropna()\n",
    "dd = dd.applymap(lambda x: x.decode() if isinstance(x, bytes) else x)"
   ]
  },
  {
   "cell_type": "code",
   "execution_count": 3,
   "metadata": {},
   "outputs": [],
   "source": [
    "codelist = pd.read_sas('Y:\\CIS-PD MUSC\\codelist.sas7bdat')\n",
    "codelist.columns = codelist.columns.str.replace('z', '')\n",
    "codelist = codelist.rename(columns={'GroupID': 'CodeGroup'})\n",
    "codelist = codelist.applymap(lambda x: x.decode() if isinstance(x, bytes) else x)"
   ]
  },
  {
   "cell_type": "code",
   "execution_count": 4,
   "metadata": {},
   "outputs": [],
   "source": [
    "# Merge data dictionary and codelist\n",
    "result = dd.merge(codelist, left_on='CodeGroup', right_on='CodeGroup', how='left')\n",
    "result.FieldNb = result.FieldNb.str.replace('z', '')"
   ]
  },
  {
   "cell_type": "code",
   "execution_count": 2,
   "metadata": {},
   "outputs": [],
   "source": [
    "path = r'Y:\\CIS-PD MUSC'\n",
    "path2 = r'Y:\\CIS-PD MUSC\\decoded_forms'"
   ]
  },
  {
   "cell_type": "markdown",
   "metadata": {},
   "source": [
    "## Change code to value function"
   ]
  },
  {
   "cell_type": "code",
   "execution_count": 6,
   "metadata": {},
   "outputs": [],
   "source": [
    "def CodetoValue(FormNb, FormSeries, QNm):\n",
    "    resultFilt = result[(result.FormID == FormNb) & (result.FieldNb == QNm)]\n",
    "    return np.vstack([resultFilt[resultFilt['ItemNb']==INb]['ItemNm'].values if INb>=0.0 else INb for INb in FormSeries])"
   ]
  },
  {
   "cell_type": "code",
   "execution_count": 7,
   "metadata": {},
   "outputs": [],
   "source": [
    "formlist = list(['form101','form126','form238','form239','form240','form241','form242','form243',\n",
    "               'form501','form502','form503','form504','form505','form506','form508','form509',\n",
    "               'form510','form515','form518'])"
   ]
  },
  {
   "cell_type": "code",
   "execution_count": null,
   "metadata": {},
   "outputs": [],
   "source": [
    "for f in formlist:\n",
    "    temporiginal = pd.read_sas(os.path.join(path,f + '.sas7bdat'))\n",
    "    f2 = f.replace('orm','')\n",
    "    f2 = f2.capitalize()\n",
    "    temporiginal.columns = temporiginal.columns.str.replace('z', '')\n",
    "    temporiginal.columns = temporiginal.columns.str.replace(f2, '')\n",
    "    temp = temporiginal.copy()\n",
    "    temp = temp.filter(regex='Q|DataCollected')\n",
    "    temp = temp.select_dtypes(include=['float64'])\n",
    "    colnames = list(temp)\n",
    "    form = f\n",
    "    form = form.replace('form', '')\n",
    "    form = np.float64(form)\n",
    "    \n",
    "    for c in colnames:\n",
    "        if sum((result.FormID == form) & (result.FieldNb == c))==0:  continue\n",
    "        temp[c] = CodetoValue(form, temp[c],c)\n",
    "    \n",
    "    temporiginal.update(temp)\n",
    "    temporiginal = temporiginal.applymap(lambda x: x.decode() if isinstance(x, bytes) else x)\n",
    "    \n",
    "    # save file\n",
    "    filename = os.path.join(path2,f + '.h5')\n",
    "    temporiginal.to_hdf(filename,'data')"
   ]
  },
  {
   "cell_type": "code",
   "execution_count": null,
   "metadata": {},
   "outputs": [],
   "source": [
    "result[(result.FormID==238.0) & (result.FieldNb=='Q02')]"
   ]
  },
  {
   "cell_type": "markdown",
   "metadata": {},
   "source": [
    "## Check form509 for motor assessment\n",
    "### Check times for watch"
   ]
  },
  {
   "cell_type": "code",
   "execution_count": 13,
   "metadata": {},
   "outputs": [],
   "source": [
    "filename2 = os.path.join(path2,'form509' + '.h5')"
   ]
  },
  {
   "cell_type": "code",
   "execution_count": 15,
   "metadata": {},
   "outputs": [],
   "source": [
    "form509 = pd.read_hdf(filename2,'data')"
   ]
  },
  {
   "cell_type": "code",
   "execution_count": 33,
   "metadata": {},
   "outputs": [
    {
     "data": {
      "text/html": [
       "<div>\n",
       "<style scoped>\n",
       "    .dataframe tbody tr th:only-of-type {\n",
       "        vertical-align: middle;\n",
       "    }\n",
       "\n",
       "    .dataframe tbody tr th {\n",
       "        vertical-align: top;\n",
       "    }\n",
       "\n",
       "    .dataframe thead th {\n",
       "        text-align: right;\n",
       "    }\n",
       "</style>\n",
       "<table border=\"1\" class=\"dataframe\">\n",
       "  <thead>\n",
       "    <tr style=\"text-align: right;\">\n",
       "      <th></th>\n",
       "      <th>SubjectCode</th>\n",
       "      <th>SiteID</th>\n",
       "      <th>VisitNm</th>\n",
       "      <th>FormDate</th>\n",
       "      <th>Q10</th>\n",
       "      <th>Q11</th>\n",
       "      <th>Q12</th>\n",
       "      <th>Q13</th>\n",
       "      <th>Q14</th>\n",
       "      <th>Q18</th>\n",
       "      <th>...</th>\n",
       "      <th>Q100</th>\n",
       "      <th>Q101</th>\n",
       "      <th>Q110</th>\n",
       "      <th>Q111</th>\n",
       "      <th>Q120</th>\n",
       "      <th>Q121</th>\n",
       "      <th>Q130</th>\n",
       "      <th>Q131</th>\n",
       "      <th>Q140</th>\n",
       "      <th>Q141</th>\n",
       "    </tr>\n",
       "  </thead>\n",
       "  <tbody>\n",
       "    <tr>\n",
       "      <th>0</th>\n",
       "      <td>1003.0</td>\n",
       "      <td>1313.0</td>\n",
       "      <td>2 Weeks: Time 0</td>\n",
       "      <td>2017-07-03</td>\n",
       "      <td>2.0</td>\n",
       "      <td>0.0</td>\n",
       "      <td>0.0</td>\n",
       "      <td>1.0</td>\n",
       "      <td>0.0</td>\n",
       "      <td>3.0</td>\n",
       "      <td>...</td>\n",
       "      <td>00:15:50</td>\n",
       "      <td>00:16:20</td>\n",
       "      <td>00:17:42</td>\n",
       "      <td>00:18:08</td>\n",
       "      <td>00:19:34</td>\n",
       "      <td>00:20:28</td>\n",
       "      <td>00:21:30</td>\n",
       "      <td>00:22:15</td>\n",
       "      <td>00:22:45</td>\n",
       "      <td>00:23:15</td>\n",
       "    </tr>\n",
       "    <tr>\n",
       "      <th>1</th>\n",
       "      <td>1003.0</td>\n",
       "      <td>1313.0</td>\n",
       "      <td>2 Weeks: Time 30</td>\n",
       "      <td>2017-07-03</td>\n",
       "      <td>1.0</td>\n",
       "      <td>0.0</td>\n",
       "      <td>0.0</td>\n",
       "      <td>0.0</td>\n",
       "      <td>0.0</td>\n",
       "      <td>1.0</td>\n",
       "      <td>...</td>\n",
       "      <td>00:15:10</td>\n",
       "      <td>00:15:40</td>\n",
       "      <td>00:16:45</td>\n",
       "      <td>00:17:08</td>\n",
       "      <td>00:17:39</td>\n",
       "      <td>00:18:22</td>\n",
       "      <td>00:18:54</td>\n",
       "      <td>00:19:23</td>\n",
       "      <td>00:19:44</td>\n",
       "      <td>00:20:14</td>\n",
       "    </tr>\n",
       "    <tr>\n",
       "      <th>2</th>\n",
       "      <td>1003.0</td>\n",
       "      <td>1313.0</td>\n",
       "      <td>2 Weeks: Time 60</td>\n",
       "      <td>2017-07-03</td>\n",
       "      <td>1.0</td>\n",
       "      <td>2.0</td>\n",
       "      <td>0.0</td>\n",
       "      <td>0.0</td>\n",
       "      <td>0.0</td>\n",
       "      <td>0.0</td>\n",
       "      <td>...</td>\n",
       "      <td>00:14:40</td>\n",
       "      <td>00:15:10</td>\n",
       "      <td>00:16:16</td>\n",
       "      <td>00:16:40</td>\n",
       "      <td>00:17:23</td>\n",
       "      <td>00:18:08</td>\n",
       "      <td>00:18:16</td>\n",
       "      <td>00:18:46</td>\n",
       "      <td>00:19:07</td>\n",
       "      <td>00:19:37</td>\n",
       "    </tr>\n",
       "    <tr>\n",
       "      <th>3</th>\n",
       "      <td>1003.0</td>\n",
       "      <td>1313.0</td>\n",
       "      <td>2 Weeks: Time 90</td>\n",
       "      <td>2017-07-03</td>\n",
       "      <td>0.0</td>\n",
       "      <td>0.0</td>\n",
       "      <td>0.0</td>\n",
       "      <td>0.0</td>\n",
       "      <td>0.0</td>\n",
       "      <td>0.0</td>\n",
       "      <td>...</td>\n",
       "      <td>00:20:36</td>\n",
       "      <td>00:21:06</td>\n",
       "      <td>00:21:50</td>\n",
       "      <td>00:22:12</td>\n",
       "      <td>00:23:02</td>\n",
       "      <td>00:23:42</td>\n",
       "      <td>00:23:59</td>\n",
       "      <td>00:24:29</td>\n",
       "      <td>00:23:40</td>\n",
       "      <td>00:24:10</td>\n",
       "    </tr>\n",
       "    <tr>\n",
       "      <th>4</th>\n",
       "      <td>1003.0</td>\n",
       "      <td>1313.0</td>\n",
       "      <td>2 Weeks: Time 120</td>\n",
       "      <td>2017-07-03</td>\n",
       "      <td>1.0</td>\n",
       "      <td>0.0</td>\n",
       "      <td>0.0</td>\n",
       "      <td>1.0</td>\n",
       "      <td>0.0</td>\n",
       "      <td>0.0</td>\n",
       "      <td>...</td>\n",
       "      <td>00:10:00</td>\n",
       "      <td>00:10:30</td>\n",
       "      <td>00:10:50</td>\n",
       "      <td>00:11:14</td>\n",
       "      <td>00:12:18</td>\n",
       "      <td>00:12:45</td>\n",
       "      <td>00:13:20</td>\n",
       "      <td>00:14:00</td>\n",
       "      <td>00:14:15</td>\n",
       "      <td>00:14:45</td>\n",
       "    </tr>\n",
       "  </tbody>\n",
       "</table>\n",
       "<p>5 rows × 151 columns</p>\n",
       "</div>"
      ],
      "text/plain": [
       "   SubjectCode  SiteID            VisitNm   FormDate  Q10  Q11  Q12  Q13  Q14  \\\n",
       "0       1003.0  1313.0    2 Weeks: Time 0 2017-07-03  2.0  0.0  0.0  1.0  0.0   \n",
       "1       1003.0  1313.0   2 Weeks: Time 30 2017-07-03  1.0  0.0  0.0  0.0  0.0   \n",
       "2       1003.0  1313.0   2 Weeks: Time 60 2017-07-03  1.0  2.0  0.0  0.0  0.0   \n",
       "3       1003.0  1313.0   2 Weeks: Time 90 2017-07-03  0.0  0.0  0.0  0.0  0.0   \n",
       "4       1003.0  1313.0  2 Weeks: Time 120 2017-07-03  1.0  0.0  0.0  1.0  0.0   \n",
       "\n",
       "   Q18    ...         Q100      Q101      Q110      Q111      Q120      Q121  \\\n",
       "0  3.0    ...     00:15:50  00:16:20  00:17:42  00:18:08  00:19:34  00:20:28   \n",
       "1  1.0    ...     00:15:10  00:15:40  00:16:45  00:17:08  00:17:39  00:18:22   \n",
       "2  0.0    ...     00:14:40  00:15:10  00:16:16  00:16:40  00:17:23  00:18:08   \n",
       "3  0.0    ...     00:20:36  00:21:06  00:21:50  00:22:12  00:23:02  00:23:42   \n",
       "4  0.0    ...     00:10:00  00:10:30  00:10:50  00:11:14  00:12:18  00:12:45   \n",
       "\n",
       "       Q130      Q131      Q140      Q141  \n",
       "0  00:21:30  00:22:15  00:22:45  00:23:15  \n",
       "1  00:18:54  00:19:23  00:19:44  00:20:14  \n",
       "2  00:18:16  00:18:46  00:19:07  00:19:37  \n",
       "3  00:23:59  00:24:29  00:23:40  00:24:10  \n",
       "4  00:13:20  00:14:00  00:14:15  00:14:45  \n",
       "\n",
       "[5 rows x 151 columns]"
      ]
     },
     "execution_count": 33,
     "metadata": {},
     "output_type": "execute_result"
    }
   ],
   "source": [
    "form509.head(5)"
   ]
  },
  {
   "cell_type": "code",
   "execution_count": 37,
   "metadata": {},
   "outputs": [
    {
     "data": {
      "text/html": [
       "<div>\n",
       "<style scoped>\n",
       "    .dataframe tbody tr th:only-of-type {\n",
       "        vertical-align: middle;\n",
       "    }\n",
       "\n",
       "    .dataframe tbody tr th {\n",
       "        vertical-align: top;\n",
       "    }\n",
       "\n",
       "    .dataframe thead th {\n",
       "        text-align: right;\n",
       "    }\n",
       "</style>\n",
       "<table border=\"1\" class=\"dataframe\">\n",
       "  <thead>\n",
       "    <tr style=\"text-align: right;\">\n",
       "      <th></th>\n",
       "      <th>Q04</th>\n",
       "      <th>Q146_UTC</th>\n",
       "      <th>Q05</th>\n",
       "      <th>Q06</th>\n",
       "      <th>Q07</th>\n",
       "      <th>Q08</th>\n",
       "      <th>Q09</th>\n",
       "      <th>Q10</th>\n",
       "      <th>Q16</th>\n",
       "      <th>Q17</th>\n",
       "    </tr>\n",
       "  </thead>\n",
       "  <tbody>\n",
       "    <tr>\n",
       "      <th>0</th>\n",
       "      <td>Yes</td>\n",
       "      <td>2017-07-03 15:35:00</td>\n",
       "      <td>00:00:18</td>\n",
       "      <td>00:00:45</td>\n",
       "      <td>Yes</td>\n",
       "      <td>00:01:50</td>\n",
       "      <td>00:02:20</td>\n",
       "      <td>2.0</td>\n",
       "      <td>00:02:55</td>\n",
       "      <td>00:03:25</td>\n",
       "    </tr>\n",
       "    <tr>\n",
       "      <th>1</th>\n",
       "      <td>Yes</td>\n",
       "      <td>2017-07-03 16:49:00</td>\n",
       "      <td>00:00:44</td>\n",
       "      <td>00:00:48</td>\n",
       "      <td>Yes</td>\n",
       "      <td>00:02:25</td>\n",
       "      <td>00:02:55</td>\n",
       "      <td>1.0</td>\n",
       "      <td>00:03:20</td>\n",
       "      <td>00:03:50</td>\n",
       "    </tr>\n",
       "    <tr>\n",
       "      <th>2</th>\n",
       "      <td>Yes</td>\n",
       "      <td>2017-07-03 17:09:00</td>\n",
       "      <td>00:00:32</td>\n",
       "      <td>00:00:42</td>\n",
       "      <td>Yes</td>\n",
       "      <td>00:01:10</td>\n",
       "      <td>00:01:40</td>\n",
       "      <td>1.0</td>\n",
       "      <td>00:02:07</td>\n",
       "      <td>00:03:37</td>\n",
       "    </tr>\n",
       "    <tr>\n",
       "      <th>3</th>\n",
       "      <td>Yes</td>\n",
       "      <td>2017-07-03 17:38:00</td>\n",
       "      <td>00:00:18</td>\n",
       "      <td>00:00:29</td>\n",
       "      <td>Yes</td>\n",
       "      <td>00:01:03</td>\n",
       "      <td>00:01:33</td>\n",
       "      <td>0.0</td>\n",
       "      <td>00:02:00</td>\n",
       "      <td>00:02:24</td>\n",
       "    </tr>\n",
       "    <tr>\n",
       "      <th>4</th>\n",
       "      <td>Yes</td>\n",
       "      <td>2017-07-03 18:14:00</td>\n",
       "      <td>00:00:34</td>\n",
       "      <td>00:00:40</td>\n",
       "      <td>Yes</td>\n",
       "      <td>00:01:12</td>\n",
       "      <td>00:01:42</td>\n",
       "      <td>1.0</td>\n",
       "      <td>00:02:12</td>\n",
       "      <td>00:02:42</td>\n",
       "    </tr>\n",
       "  </tbody>\n",
       "</table>\n",
       "</div>"
      ],
      "text/plain": [
       "   Q04            Q146_UTC       Q05       Q06  Q07       Q08       Q09  Q10  \\\n",
       "0  Yes 2017-07-03 15:35:00  00:00:18  00:00:45  Yes  00:01:50  00:02:20  2.0   \n",
       "1  Yes 2017-07-03 16:49:00  00:00:44  00:00:48  Yes  00:02:25  00:02:55  1.0   \n",
       "2  Yes 2017-07-03 17:09:00  00:00:32  00:00:42  Yes  00:01:10  00:01:40  1.0   \n",
       "3  Yes 2017-07-03 17:38:00  00:00:18  00:00:29  Yes  00:01:03  00:01:33  0.0   \n",
       "4  Yes 2017-07-03 18:14:00  00:00:34  00:00:40  Yes  00:01:12  00:01:42  1.0   \n",
       "\n",
       "        Q16       Q17  \n",
       "0  00:02:55  00:03:25  \n",
       "1  00:03:20  00:03:50  \n",
       "2  00:02:07  00:03:37  \n",
       "3  00:02:00  00:02:24  \n",
       "4  00:02:12  00:02:42  "
      ]
     },
     "execution_count": 37,
     "metadata": {},
     "output_type": "execute_result"
    }
   ],
   "source": [
    "form509[['Q04','Q146_UTC','Q05','Q06','Q07','Q08','Q09','Q10','Q16','Q17']].head(5)"
   ]
  },
  {
   "cell_type": "code",
   "execution_count": null,
   "metadata": {},
   "outputs": [],
   "source": [
    "list(form509)"
   ]
  },
  {
   "cell_type": "markdown",
   "metadata": {},
   "source": [
    "## Create file with 4 digit SubjectCode and video ID"
   ]
  },
  {
   "cell_type": "markdown",
   "metadata": {},
   "source": [
    "### ...need to merge 6 digit SubjectID next (waiting for Nick)"
   ]
  },
  {
   "cell_type": "code",
   "execution_count": 36,
   "metadata": {},
   "outputs": [],
   "source": [
    "# FoxInsightID is the video ID\n",
    "subjenroll = pd.read_sas('Y:\\CIS-PD MUSC\\subjenrollment.sas7bdat')\n",
    "subjenroll.columns = subjenroll.columns.str.replace('z', '')\n",
    "subjenroll = subjenroll[['SubjectCode','FoxInsightID']]\n",
    "subjenroll = subjenroll.applymap(lambda x: x.decode() if isinstance(x, bytes) else x)\n",
    "subjenroll.head(10)\n",
    "\n",
    "filename = os.path.join(path2, 'videoID' + '.csv')\n",
    "subjenroll.to_csv(filename, sep=',')"
   ]
  },
  {
   "cell_type": "markdown",
   "metadata": {},
   "source": [
    "## Check form101 for 6 digit subject ID and 4 digit and save to csv file"
   ]
  },
  {
   "cell_type": "code",
   "execution_count": null,
   "metadata": {},
   "outputs": [],
   "source": [
    "# check form101\n",
    "filename3 = os.path.join(path2,'form101' + '.h5')\n",
    "form101 = pd.read_hdf(filename3,'data')\n",
    "form101.head(5)"
   ]
  },
  {
   "cell_type": "code",
   "execution_count": null,
   "metadata": {},
   "outputs": [],
   "source": [
    "# check form126\n",
    "filename3 = os.path.join(path2,'form126' + '.h5')\n",
    "form126 = pd.read_hdf(filename3,'data')\n",
    "form126.head(5)"
   ]
  },
  {
   "cell_type": "code",
   "execution_count": null,
   "metadata": {},
   "outputs": [],
   "source": []
  },
  {
   "cell_type": "code",
   "execution_count": null,
   "metadata": {},
   "outputs": [],
   "source": [
    "filename = os.path.join(path2, 'subjID' + '.csv')\n",
    "    subj.to_csv(filename,'data')"
   ]
  },
  {
   "cell_type": "code",
   "execution_count": null,
   "metadata": {},
   "outputs": [],
   "source": []
  }
 ],
 "metadata": {
  "kernelspec": {
   "display_name": "Python 3",
   "language": "python",
   "name": "python3"
  },
  "language_info": {
   "codemirror_mode": {
    "name": "ipython",
    "version": 3
   },
   "file_extension": ".py",
   "mimetype": "text/x-python",
   "name": "python",
   "nbconvert_exporter": "python",
   "pygments_lexer": "ipython3",
   "version": "3.6.4"
  }
 },
 "nbformat": 4,
 "nbformat_minor": 2
}
