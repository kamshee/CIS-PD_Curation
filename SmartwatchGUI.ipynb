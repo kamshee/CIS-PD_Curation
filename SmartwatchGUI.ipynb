{
 "cells": [
  {
   "cell_type": "code",
   "execution_count": 1,
   "metadata": {},
   "outputs": [
    {
     "name": "stderr",
     "output_type": "stream",
     "text": [
      "C:\\Users\\nshawen\\AppData\\Local\\Continuum\\anaconda3\\lib\\site-packages\\h5py\\__init__.py:36: FutureWarning: Conversion of the second argument of issubdtype from `float` to `np.floating` is deprecated. In future, it will be treated as `np.float64 == np.dtype(float).type`.\n",
      "  from ._conv import register_converters as _register_converters\n"
     ]
    }
   ],
   "source": [
    "from PyQt5 import QtGui  # (the example applies equally well to PySide)\n",
    "import pyqtgraph as pg\n",
    "import pandas as pd\n",
    "import numpy as np"
   ]
  },
  {
   "cell_type": "code",
   "execution_count": 2,
   "metadata": {},
   "outputs": [],
   "source": [
    "## Always start by initializing Qt (only once per application)\n",
    "app = QtGui.QApplication([])"
   ]
  },
  {
   "cell_type": "code",
   "execution_count": 153,
   "metadata": {},
   "outputs": [],
   "source": [
    "class AccViewer(QtGui.QDialog):\n",
    "    def __init__(self, parent=None):\n",
    "        super(AccViewer,self).__init__(parent)\n",
    "        \n",
    "        self.WindowRange = 8 # time (s) to add to both sides of acc signal\n",
    "        \n",
    "        ## Load timestamp data\n",
    "        Labels = pd.read_hdf('Y:\\CIS-PD MUSC\\decoded_forms\\\\form509.h5')\n",
    "        Questions = pd.read_sas('Y:\\CIS-PD MUSC\\datadictionary.sas7bdat')\n",
    "        Questions = Questions[Questions.zFormID == 509.0]\n",
    "        Questions = Questions.drop(columns = list(set(Questions.columns)-set(['zFieldNm','zFieldNb'])))\n",
    "        Questions['zFieldNm'] = Questions['zFieldNm'].astype(str)\n",
    "        Questions.zFieldNm = Questions.zFieldNm.str.replace(('b\\''), '')\n",
    "        Questions.zFieldNm = Questions.zFieldNm.str.replace(('\\''), '')\n",
    "        Questions['zFieldNb'] = Questions['zFieldNb'].astype(str)\n",
    "        Questions.zFieldNb = Questions.zFieldNb.str.replace(('b\\''), '')\n",
    "        Questions.zFieldNb = Questions.zFieldNb.str.replace(('\\''), '')        \n",
    "        \n",
    "        self.questions = Questions\n",
    "        self.timestamps = Labels\n",
    "        \n",
    "        ## Create some widgets to be placed inside\n",
    "        self.btn = QtGui.QPushButton('Plot Data')\n",
    "        self.subjtxt = QtGui.QLineEdit('1004')\n",
    "        self.sesstxt = QtGui.QLineEdit('2 Weeks: Time 30')\n",
    "        self.tasktxt = QtGui.QLineEdit('Walking')\n",
    "        self.listw = QtGui.QListWidget()\n",
    "        self.plot = pg.PlotWidget()\n",
    "\n",
    "        self.btn.clicked.connect(self.btn_clicked)\n",
    "        \n",
    "\n",
    "        ## Create a grid layout to manage the widgets size and position\n",
    "        layout = QtGui.QGridLayout()\n",
    "\n",
    "        ## Add widgets to the layout in their proper positions\n",
    "        layout.addWidget(self.btn, 0, 0)   # button goes in upper-left\n",
    "        layout.addWidget(self.subjtxt, 1, 0)   # text edit goes in middle-left\n",
    "        layout.addWidget(self.sesstxt, 2, 0)\n",
    "        layout.addWidget(self.tasktxt, 3, 0)\n",
    "        layout.addWidget(self.listw, 4, 0)  # list widget goes in bottom-left\n",
    "        layout.addWidget(self.plot, 0, 1, 5, 1)  # plot goes on right side, spanning 3 rows\n",
    "\n",
    "        self.setLayout(layout)\n",
    "\n",
    "    def btn_clicked(self):\n",
    "        sessInds = (self.timestamps.SubjectCode.astype(int) == int(self.subjtxt.text())\n",
    "                   ) & (self.timestamps.VisitNm == self.sesstxt.text())\n",
    "        \n",
    "        watchTime = self.timestamps[sessInds]['Q146_UTC'].values[0]\n",
    "        print(watchTime)\n",
    "        \n",
    "        StQinds = self.questions.zFieldNm == (self.tasktxt.text() + ' start time')\n",
    "        StQNb = self.questions[StQinds].zFieldNb\n",
    "        stTime = self.timestamps[sessInds][StQNb].values[0]\n",
    "        stTime = watchTime + self.getTimeDelta(stTime[0])\n",
    "        \n",
    "        SpQinds = self.questions.zFieldNm == (self.tasktxt.text() + ' stop time')\n",
    "        SpQNb = self.questions[SpQinds].zFieldNb\n",
    "        spTime = self.timestamps[sessInds][SpQNb].values[0]\n",
    "        spTime = watchTime + self.getTimeDelta(spTime[0])\n",
    "        \n",
    "        ACC = pd.read_csv(self.subjtxt.text() + '_Session1_Acc.csv', parse_dates=[3])\n",
    "        ACC = ACC[(ACC.timestamp < (spTime + np.timedelta64(self.WindowRange,'s'))\n",
    "                  ) & (ACC.timestamp > (stTime - np.timedelta64(self.WindowRange,'s')))]\n",
    "\n",
    "        \n",
    "        T = (ACC.timestamp.values.astype('datetime64[ms]') - ACC.timestamp.values[0].astype('datetime64[ms]')).astype(float)\n",
    "        \n",
    "        self.plot.plot(T,ACC.x.values,pen=(1,5))\n",
    "        self.plot.plot(T,ACC.y.values,pen=(2,5))\n",
    "        self.plot.plot(T,ACC.z.values,pen=(3,5))\n",
    "        \n",
    "        stTime = stTime.astype('datetime64[ms]').astype(float) - ACC.timestamp.values[0].astype('datetime64[ms]').astype(float)\n",
    "        spTime = spTime.astype('datetime64[ms]').astype(float) - ACC.timestamp.values[0].astype('datetime64[ms]').astype(float)\n",
    "        \n",
    "        self.plot.plot(np.array([stTime,stTime]),np.array([-3,3]),pen=(4,5))\n",
    "        self.plot.plot(np.array([spTime,spTime]),np.array([-3,3]),pen=(5,5))\n",
    "        self.plot.setYRange(-3,3)\n",
    "        \n",
    "        \n",
    "    def getTimeDelta(self, ts): #Convert string stopwatch time to timedelta\n",
    "         return np.timedelta64(int(ts[0:2]),'h') + np.timedelta64(int(ts[3:5]),'m') + np.timedelta64(int(ts[6:]),'s')\n",
    "        \n",
    "    "
   ]
  },
  {
   "cell_type": "code",
   "execution_count": 140,
   "metadata": {},
   "outputs": [],
   "source": [
    "s = np.datetime64('2017-07-07T14:25:29.000000000')"
   ]
  },
  {
   "cell_type": "code",
   "execution_count": 141,
   "metadata": {},
   "outputs": [
    {
     "data": {
      "text/plain": [
       "array(['2017-07-07T14:25:29.000000000', '2017-07-07T14:25:29.000000000'],\n",
       "      dtype='datetime64[ns]')"
      ]
     },
     "execution_count": 141,
     "metadata": {},
     "output_type": "execute_result"
    }
   ],
   "source": [
    "np.array([s,s])"
   ]
  },
  {
   "cell_type": "code",
   "execution_count": null,
   "metadata": {
    "scrolled": true
   },
   "outputs": [
    {
     "name": "stdout",
     "output_type": "stream",
     "text": [
      "2017-07-07T14:22:59.000000000\n"
     ]
    }
   ],
   "source": [
    "window = AccViewer()\n",
    "window.show()\n",
    "app.exec_()"
   ]
  },
  {
   "cell_type": "code",
   "execution_count": 105,
   "metadata": {},
   "outputs": [
    {
     "data": {
      "text/plain": [
       "numpy.datetime64('2017-07-07T14:25:54.000000000')"
      ]
     },
     "execution_count": 105,
     "metadata": {},
     "output_type": "execute_result"
    }
   ],
   "source": [
    "np.datetime64('2017-07-07T14:25:54.000000000')"
   ]
  },
  {
   "cell_type": "code",
   "execution_count": 107,
   "metadata": {},
   "outputs": [
    {
     "data": {
      "text/plain": [
       "0           True\n",
       "1           True\n",
       "2           True\n",
       "3           True\n",
       "4           True\n",
       "5           True\n",
       "6           True\n",
       "7           True\n",
       "8           True\n",
       "9           True\n",
       "10          True\n",
       "11          True\n",
       "12          True\n",
       "13          True\n",
       "14          True\n",
       "15          True\n",
       "16          True\n",
       "17          True\n",
       "18          True\n",
       "19          True\n",
       "20          True\n",
       "21          True\n",
       "22          True\n",
       "23          True\n",
       "24          True\n",
       "25          True\n",
       "26          True\n",
       "27          True\n",
       "28          True\n",
       "29          True\n",
       "           ...  \n",
       "2677005    False\n",
       "2677006    False\n",
       "2677007    False\n",
       "2677008    False\n",
       "2677009    False\n",
       "2677010    False\n",
       "2677011    False\n",
       "2677012    False\n",
       "2677013    False\n",
       "2677014    False\n",
       "2677015    False\n",
       "2677016    False\n",
       "2677017    False\n",
       "2677018    False\n",
       "2677019    False\n",
       "2677020    False\n",
       "2677021    False\n",
       "2677022    False\n",
       "2677023    False\n",
       "2677024    False\n",
       "2677025    False\n",
       "2677026    False\n",
       "2677027    False\n",
       "2677028    False\n",
       "2677029    False\n",
       "2677030    False\n",
       "2677031    False\n",
       "2677032    False\n",
       "2677033    False\n",
       "2677034    False\n",
       "Name: timestamp, Length: 2677035, dtype: bool"
      ]
     },
     "execution_count": 107,
     "metadata": {},
     "output_type": "execute_result"
    }
   ],
   "source": [
    "ACC.timestamp < np.datetime64('2017-07-07T14:25:54.000000000') ACC.timestamp < np.datetime64('2017-07-07T14:25:54.000000000')"
   ]
  },
  {
   "cell_type": "code",
   "execution_count": 79,
   "metadata": {},
   "outputs": [],
   "source": [
    "l = Labels['Q16'][0]"
   ]
  },
  {
   "cell_type": "code",
   "execution_count": 80,
   "metadata": {},
   "outputs": [
    {
     "data": {
      "text/plain": [
       "'00:02:55'"
      ]
     },
     "execution_count": 80,
     "metadata": {},
     "output_type": "execute_result"
    }
   ],
   "source": [
    "l"
   ]
  },
  {
   "cell_type": "code",
   "execution_count": 81,
   "metadata": {},
   "outputs": [
    {
     "data": {
      "text/plain": [
       "numpy.timedelta64(2055,'ms')"
      ]
     },
     "execution_count": 81,
     "metadata": {},
     "output_type": "execute_result"
    }
   ],
   "source": [
    "np.timedelta64(int(l[0:2]),'m') + np.timedelta64(int(l[3:5]),'s') + np.timedelta64(int(l[6:]),'ms')"
   ]
  },
  {
   "cell_type": "code",
   "execution_count": 49,
   "metadata": {},
   "outputs": [],
   "source": [
    "Questions = pd.read_sas('Y:\\CIS-PD MUSC\\datadictionary.sas7bdat')\n",
    "Questions = Questions[Questions.zFormID == 509.0]\n",
    "Questions = Questions.drop(columns = list(set(Questions.columns)-set(['zFieldNm','zFieldNb'])))"
   ]
  },
  {
   "cell_type": "code",
   "execution_count": 50,
   "metadata": {},
   "outputs": [],
   "source": [
    "Questions['zFieldNm'] = Questions['zFieldNm'].astype(str)\n",
    "Questions['zFieldNb'] = Questions['zFieldNb'].astype(str)"
   ]
  },
  {
   "cell_type": "code",
   "execution_count": 54,
   "metadata": {},
   "outputs": [
    {
     "data": {
      "text/html": [
       "<div>\n",
       "<style scoped>\n",
       "    .dataframe tbody tr th:only-of-type {\n",
       "        vertical-align: middle;\n",
       "    }\n",
       "\n",
       "    .dataframe tbody tr th {\n",
       "        vertical-align: top;\n",
       "    }\n",
       "\n",
       "    .dataframe thead th {\n",
       "        text-align: right;\n",
       "    }\n",
       "</style>\n",
       "<table border=\"1\" class=\"dataframe\">\n",
       "  <thead>\n",
       "    <tr style=\"text-align: right;\">\n",
       "      <th></th>\n",
       "      <th>zFieldNb</th>\n",
       "      <th>zFieldNm</th>\n",
       "    </tr>\n",
       "  </thead>\n",
       "  <tbody>\n",
       "    <tr>\n",
       "      <th>317</th>\n",
       "      <td>b'Q16'</td>\n",
       "      <td>Walking start time</td>\n",
       "    </tr>\n",
       "  </tbody>\n",
       "</table>\n",
       "</div>"
      ],
      "text/plain": [
       "    zFieldNb            zFieldNm\n",
       "317   b'Q16'  Walking start time"
      ]
     },
     "execution_count": 54,
     "metadata": {},
     "output_type": "execute_result"
    }
   ],
   "source": [
    "Questions[Questions.zFieldNm == 'Walking start time']"
   ]
  },
  {
   "cell_type": "code",
   "execution_count": 53,
   "metadata": {},
   "outputs": [],
   "source": [
    "Questions.zFieldNm = Questions.zFieldNm.str.replace(('b\\''), '')\n",
    "Questions.zFieldNm = Questions.zFieldNm.str.replace(('\\''), '')"
   ]
  },
  {
   "cell_type": "code",
   "execution_count": 132,
   "metadata": {},
   "outputs": [
    {
     "data": {
      "text/plain": [
       "array([1003., 1004., 1005., 1007., 1009., 1016., 1018., 1019., 1020.,\n",
       "       1023., 1024., 1029., 1030., 1032., 1038., 1039., 1043., 1044.,\n",
       "       1046., 1047., 1048., 1049., 1050., 1051., 1052., 1053., 1054.,\n",
       "       1055., 1056.])"
      ]
     },
     "execution_count": 132,
     "metadata": {},
     "output_type": "execute_result"
    }
   ],
   "source": [
    "Labels.SubjectCode.unique()"
   ]
  },
  {
   "cell_type": "code",
   "execution_count": 67,
   "metadata": {},
   "outputs": [
    {
     "data": {
      "text/plain": [
       "\"b'Q146'\""
      ]
     },
     "execution_count": 67,
     "metadata": {},
     "output_type": "execute_result"
    }
   ],
   "source": [
    "Questions.zFieldNb[305]"
   ]
  },
  {
   "cell_type": "code",
   "execution_count": 10,
   "metadata": {},
   "outputs": [],
   "source": [
    "Labels = pd.read_hdf('Y:\\CIS-PD MUSC\\decoded_forms\\\\form509.h5')\n",
    "Questions = pd.read_sas('Y:\\CIS-PD MUSC\\datadictionary.sas7bdat')"
   ]
  },
  {
   "cell_type": "code",
   "execution_count": 120,
   "metadata": {},
   "outputs": [
    {
     "data": {
      "text/plain": [
       "300                                       Data Collected\n",
       "301                                   Date of assessment\n",
       "302                   What is the participant\\x92s state\n",
       "303    On which hand is the subject wearing the Apple...\n",
       "304    Was the device shaken 5 times up and down prio...\n",
       "305    Patient\\x92s Apple watch clock time when the s...\n",
       "306                                   Shaking start time\n",
       "307                                     Shaking end time\n",
       "308                                Was standing assessed\n",
       "309                                  Standing start time\n",
       "310                                    Standing end time\n",
       "311                               Standing overall score\n",
       "312           Standing dyskinesia left upper limb rating\n",
       "313          Standing dyskinesia right upper limb rating\n",
       "314               Standing tremor left upper limb rating\n",
       "315              Standing tremor right upper limb rating\n",
       "316                                 Was walking assessed\n",
       "317                                   Walking start time\n",
       "318                                    Walking stop time\n",
       "319                                Walking overall score\n",
       "320                  Walking bradykinesia left upper lim\n",
       "321                 Walking bradykinesia right upper lim\n",
       "322            Walking dyskinesia left upper limb rating\n",
       "323          Walking dyskinesia right  upper limb rating\n",
       "324               Walking  tremor left upper limb rating\n",
       "325               Walking tremor right upper limb rating\n",
       "326                  Was walking while counting assessed\n",
       "327                    Walking while counting start time\n",
       "328                      Walking while counting end time\n",
       "329                 Walking while counting overall score\n",
       "                             ...                        \n",
       "418    Taking a glass of water and drinking tremor le...\n",
       "419    Taking a glass of water and drinking tremor ri...\n",
       "420           Was organizing sheets in a folder assessed\n",
       "421             Organizing sheets in a folder start time\n",
       "422               Organizing sheets in a folder end time\n",
       "423          Organizing sheets in a folder overall score\n",
       "424    Organizing sheets in a folder bradykinesia lef...\n",
       "425    Organizing sheets in a folder bradykinesia rig...\n",
       "426    Organizing sheets in a folder dyskinesia left ...\n",
       "427    Organizing sheets in a folder dyskinesia right...\n",
       "428    Organizing sheets in a folder tremor left uppe...\n",
       "429    Organizing sheets in a folder tremor right upp...\n",
       "430                          Was folding towels assessed\n",
       "431                            Folding towels start time\n",
       "432                              Folding towels end time\n",
       "433                         Folding towels overall score\n",
       "434    Folding towels bradykinesia left upper limb ra...\n",
       "435    Folding towels bradykinesia right upper limb r...\n",
       "436     Folding towels dyskinesia left upper limb rating\n",
       "437    Folding towels dyskinesia right upper limb rating\n",
       "438         Folding towels tremor left upper limb rating\n",
       "439        Folding towels tremor right upper limb rating\n",
       "440                                 Was sitting assessed\n",
       "441                                   Sitting start time\n",
       "442                                     Sitting end time\n",
       "443            Sitting dyskinesia left upper limb rating\n",
       "444           Sitting dyskinesia right upper limb rating\n",
       "445                Sitting tremor left upper limb rating\n",
       "446               Sitting tremor upper right limb rating\n",
       "447                                     General Comments\n",
       "Name: zFieldNm, Length: 148, dtype: object"
      ]
     },
     "execution_count": 120,
     "metadata": {},
     "output_type": "execute_result"
    }
   ],
   "source": [
    "Questions.zFieldNm"
   ]
  },
  {
   "cell_type": "code",
   "execution_count": 20,
   "metadata": {},
   "outputs": [],
   "source": [
    "Questions['zFieldNm'] = Questions['zFieldNm'].astype(str)"
   ]
  },
  {
   "cell_type": "code",
   "execution_count": 21,
   "metadata": {},
   "outputs": [
    {
     "data": {
      "text/plain": [
       "str"
      ]
     },
     "execution_count": 21,
     "metadata": {},
     "output_type": "execute_result"
    }
   ],
   "source": [
    "type(Questions[Questions.zFormID == 509.0].zFieldNm.values[0])"
   ]
  },
  {
   "cell_type": "code",
   "execution_count": 14,
   "metadata": {},
   "outputs": [
    {
     "data": {
      "text/html": [
       "<div>\n",
       "<style scoped>\n",
       "    .dataframe tbody tr th:only-of-type {\n",
       "        vertical-align: middle;\n",
       "    }\n",
       "\n",
       "    .dataframe tbody tr th {\n",
       "        vertical-align: top;\n",
       "    }\n",
       "\n",
       "    .dataframe thead th {\n",
       "        text-align: right;\n",
       "    }\n",
       "</style>\n",
       "<table border=\"1\" class=\"dataframe\">\n",
       "  <thead>\n",
       "    <tr style=\"text-align: right;\">\n",
       "      <th></th>\n",
       "      <th>zFormID</th>\n",
       "      <th>zCRFNb</th>\n",
       "      <th>zFieldNb</th>\n",
       "      <th>zFieldNm</th>\n",
       "      <th>zSASNm</th>\n",
       "      <th>zSASLabel</th>\n",
       "      <th>zFieldTypeNm</th>\n",
       "      <th>zLength</th>\n",
       "      <th>zUnit</th>\n",
       "      <th>zRequired</th>\n",
       "      <th>zCodeGroup</th>\n",
       "    </tr>\n",
       "  </thead>\n",
       "  <tbody>\n",
       "  </tbody>\n",
       "</table>\n",
       "</div>"
      ],
      "text/plain": [
       "Empty DataFrame\n",
       "Columns: [zFormID, zCRFNb, zFieldNb, zFieldNm, zSASNm, zSASLabel, zFieldTypeNm, zLength, zUnit, zRequired, zCodeGroup]\n",
       "Index: []"
      ]
     },
     "execution_count": 14,
     "metadata": {},
     "output_type": "execute_result"
    }
   ],
   "source": [
    "Questions[Questions.zFieldNm == 'b\\'Walking start time\\'']"
   ]
  },
  {
   "cell_type": "code",
   "execution_count": 8,
   "metadata": {},
   "outputs": [
    {
     "data": {
      "text/plain": [
       "array([0.000000e+00, 2.000000e+01, 4.000000e+01, ..., 8.639993e+07,\n",
       "       8.639995e+07, 8.639997e+07])"
      ]
     },
     "execution_count": 8,
     "metadata": {},
     "output_type": "execute_result"
    }
   ],
   "source": [
    "T = ACC.timestamp.values.astype('datetime64[ms]') - ACC.timestamp.values[0].astype('datetime64[ms]')\n",
    "T.astype(float)"
   ]
  },
  {
   "cell_type": "code",
   "execution_count": 34,
   "metadata": {},
   "outputs": [
    {
     "data": {
      "text/plain": [
       "numpy.timedelta64(20000000,'ns')"
      ]
     },
     "execution_count": 34,
     "metadata": {},
     "output_type": "execute_result"
    }
   ],
   "source": [
    "np.median(np.diff(T))"
   ]
  },
  {
   "cell_type": "code",
   "execution_count": 6,
   "metadata": {},
   "outputs": [],
   "source": [
    "AccViewer()"
   ]
  },
  {
   "cell_type": "code",
   "execution_count": 104,
   "metadata": {},
   "outputs": [],
   "source": [
    "ACC = pd.read_csv('1004_Session1_Acc.csv', parse_dates=[3])"
   ]
  },
  {
   "cell_type": "code",
   "execution_count": 33,
   "metadata": {},
   "outputs": [
    {
     "data": {
      "text/html": [
       "<div>\n",
       "<style scoped>\n",
       "    .dataframe tbody tr th:only-of-type {\n",
       "        vertical-align: middle;\n",
       "    }\n",
       "\n",
       "    .dataframe tbody tr th {\n",
       "        vertical-align: top;\n",
       "    }\n",
       "\n",
       "    .dataframe thead th {\n",
       "        text-align: right;\n",
       "    }\n",
       "</style>\n",
       "<table border=\"1\" class=\"dataframe\">\n",
       "  <thead>\n",
       "    <tr style=\"text-align: right;\">\n",
       "      <th></th>\n",
       "      <th>user_id</th>\n",
       "      <th>experiment</th>\n",
       "      <th>cohort</th>\n",
       "      <th>timestamp</th>\n",
       "      <th>x</th>\n",
       "      <th>y</th>\n",
       "      <th>z</th>\n",
       "    </tr>\n",
       "  </thead>\n",
       "  <tbody>\n",
       "    <tr>\n",
       "      <th>0</th>\n",
       "      <td>142579</td>\n",
       "      <td>Clinicians</td>\n",
       "      <td>northwestern</td>\n",
       "      <td>2017-07-07 00:00:00.014</td>\n",
       "      <td>0.695801</td>\n",
       "      <td>0.698975</td>\n",
       "      <td>-0.160889</td>\n",
       "    </tr>\n",
       "    <tr>\n",
       "      <th>1</th>\n",
       "      <td>142579</td>\n",
       "      <td>Clinicians</td>\n",
       "      <td>northwestern</td>\n",
       "      <td>2017-07-07 00:00:00.034</td>\n",
       "      <td>0.696777</td>\n",
       "      <td>0.703857</td>\n",
       "      <td>-0.161377</td>\n",
       "    </tr>\n",
       "    <tr>\n",
       "      <th>2</th>\n",
       "      <td>142579</td>\n",
       "      <td>Clinicians</td>\n",
       "      <td>northwestern</td>\n",
       "      <td>2017-07-07 00:00:00.054</td>\n",
       "      <td>0.696289</td>\n",
       "      <td>0.701416</td>\n",
       "      <td>-0.159912</td>\n",
       "    </tr>\n",
       "    <tr>\n",
       "      <th>3</th>\n",
       "      <td>142579</td>\n",
       "      <td>Clinicians</td>\n",
       "      <td>northwestern</td>\n",
       "      <td>2017-07-07 00:00:00.074</td>\n",
       "      <td>0.696289</td>\n",
       "      <td>0.699951</td>\n",
       "      <td>-0.162354</td>\n",
       "    </tr>\n",
       "    <tr>\n",
       "      <th>4</th>\n",
       "      <td>142579</td>\n",
       "      <td>Clinicians</td>\n",
       "      <td>northwestern</td>\n",
       "      <td>2017-07-07 00:00:00.094</td>\n",
       "      <td>0.696777</td>\n",
       "      <td>0.708740</td>\n",
       "      <td>-0.160889</td>\n",
       "    </tr>\n",
       "    <tr>\n",
       "      <th>5</th>\n",
       "      <td>142579</td>\n",
       "      <td>Clinicians</td>\n",
       "      <td>northwestern</td>\n",
       "      <td>2017-07-07 00:00:00.114</td>\n",
       "      <td>0.700195</td>\n",
       "      <td>0.703857</td>\n",
       "      <td>-0.162842</td>\n",
       "    </tr>\n",
       "    <tr>\n",
       "      <th>6</th>\n",
       "      <td>142579</td>\n",
       "      <td>Clinicians</td>\n",
       "      <td>northwestern</td>\n",
       "      <td>2017-07-07 00:00:00.134</td>\n",
       "      <td>0.701660</td>\n",
       "      <td>0.697510</td>\n",
       "      <td>-0.160889</td>\n",
       "    </tr>\n",
       "    <tr>\n",
       "      <th>7</th>\n",
       "      <td>142579</td>\n",
       "      <td>Clinicians</td>\n",
       "      <td>northwestern</td>\n",
       "      <td>2017-07-07 00:00:00.154</td>\n",
       "      <td>0.702148</td>\n",
       "      <td>0.708740</td>\n",
       "      <td>-0.157959</td>\n",
       "    </tr>\n",
       "    <tr>\n",
       "      <th>8</th>\n",
       "      <td>142579</td>\n",
       "      <td>Clinicians</td>\n",
       "      <td>northwestern</td>\n",
       "      <td>2017-07-07 00:00:00.174</td>\n",
       "      <td>0.704590</td>\n",
       "      <td>0.705811</td>\n",
       "      <td>-0.158936</td>\n",
       "    </tr>\n",
       "    <tr>\n",
       "      <th>9</th>\n",
       "      <td>142579</td>\n",
       "      <td>Clinicians</td>\n",
       "      <td>northwestern</td>\n",
       "      <td>2017-07-07 00:00:00.194</td>\n",
       "      <td>0.701172</td>\n",
       "      <td>0.699463</td>\n",
       "      <td>-0.162842</td>\n",
       "    </tr>\n",
       "  </tbody>\n",
       "</table>\n",
       "</div>"
      ],
      "text/plain": [
       "   user_id  experiment        cohort               timestamp         x  \\\n",
       "0   142579  Clinicians  northwestern 2017-07-07 00:00:00.014  0.695801   \n",
       "1   142579  Clinicians  northwestern 2017-07-07 00:00:00.034  0.696777   \n",
       "2   142579  Clinicians  northwestern 2017-07-07 00:00:00.054  0.696289   \n",
       "3   142579  Clinicians  northwestern 2017-07-07 00:00:00.074  0.696289   \n",
       "4   142579  Clinicians  northwestern 2017-07-07 00:00:00.094  0.696777   \n",
       "5   142579  Clinicians  northwestern 2017-07-07 00:00:00.114  0.700195   \n",
       "6   142579  Clinicians  northwestern 2017-07-07 00:00:00.134  0.701660   \n",
       "7   142579  Clinicians  northwestern 2017-07-07 00:00:00.154  0.702148   \n",
       "8   142579  Clinicians  northwestern 2017-07-07 00:00:00.174  0.704590   \n",
       "9   142579  Clinicians  northwestern 2017-07-07 00:00:00.194  0.701172   \n",
       "\n",
       "          y         z  \n",
       "0  0.698975 -0.160889  \n",
       "1  0.703857 -0.161377  \n",
       "2  0.701416 -0.159912  \n",
       "3  0.699951 -0.162354  \n",
       "4  0.708740 -0.160889  \n",
       "5  0.703857 -0.162842  \n",
       "6  0.697510 -0.160889  \n",
       "7  0.708740 -0.157959  \n",
       "8  0.705811 -0.158936  \n",
       "9  0.699463 -0.162842  "
      ]
     },
     "execution_count": 33,
     "metadata": {},
     "output_type": "execute_result"
    }
   ],
   "source": [
    "ACC.head(10)"
   ]
  },
  {
   "cell_type": "code",
   "execution_count": null,
   "metadata": {},
   "outputs": [],
   "source": []
  }
 ],
 "metadata": {
  "kernelspec": {
   "display_name": "Python 3",
   "language": "python",
   "name": "python3"
  },
  "language_info": {
   "codemirror_mode": {
    "name": "ipython",
    "version": 3
   },
   "file_extension": ".py",
   "mimetype": "text/x-python",
   "name": "python",
   "nbconvert_exporter": "python",
   "pygments_lexer": "ipython3",
   "version": "3.6.4"
  }
 },
 "nbformat": 4,
 "nbformat_minor": 2
}
