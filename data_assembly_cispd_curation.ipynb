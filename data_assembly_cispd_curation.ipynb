{
 "cells": [
  {
   "cell_type": "markdown",
   "metadata": {},
   "source": [
    "# Assemble data for CIS-PD Curation"
   ]
  },
  {
   "cell_type": "markdown",
   "metadata": {},
   "source": [
    "1. Create table/file (tasktimestamp.csv) with subjid, visit, task, start timestamp, stop timestamp\n",
    "2. Create table/file for sensor info\n",
    "3. Create table/file for sensor serial number info for each subject"
   ]
  },
  {
   "cell_type": "markdown",
   "metadata": {},
   "source": [
    "Project status:\n",
    "- Complete: Table 1, 2, 3\n",
    "- In progress: Create summary table"
   ]
  },
  {
   "cell_type": "markdown",
   "metadata": {
    "heading_collapsed": true
   },
   "source": [
    "# Import packages"
   ]
  },
  {
   "cell_type": "code",
   "execution_count": 2,
   "metadata": {
    "ExecuteTime": {
     "end_time": "2018-09-25T13:23:50.921204Z",
     "start_time": "2018-09-25T13:23:43.939092Z"
    },
    "hidden": true
   },
   "outputs": [],
   "source": [
    "# import packages\n",
    "import os\n",
    "import pandas as pd\n",
    "import numpy as np\n",
    "import re\n",
    "import pathlib"
   ]
  },
  {
   "cell_type": "markdown",
   "metadata": {},
   "source": [
    "# Table 1 - task and timestamp"
   ]
  },
  {
   "cell_type": "code",
   "execution_count": 316,
   "metadata": {
    "ExecuteTime": {
     "end_time": "2018-09-27T20:06:29.906970Z",
     "start_time": "2018-09-27T20:06:29.903978Z"
    }
   },
   "outputs": [],
   "source": [
    "path = r'//FS2.smpp.local\\RTO\\CIS-PD Study\\MJFF Curation\\TaskAcc'\n",
    "# filename = r'//FS2.smpp.local\\RTO\\CIS-PD MUSC\\codelist.sas7bdat'\n",
    "# data124 = pd.read_hdf(os.path.join(path,'updrs_124.h5'))"
   ]
  },
  {
   "cell_type": "markdown",
   "metadata": {},
   "source": [
    "## Skip: Functions - if time"
   ]
  },
  {
   "cell_type": "code",
   "execution_count": 41,
   "metadata": {
    "ExecuteTime": {
     "end_time": "2018-09-25T15:34:27.109585Z",
     "start_time": "2018-09-25T15:34:27.106591Z"
    }
   },
   "outputs": [],
   "source": [
    "def extract_data(path):\n",
    "    \"\"\"Open each csv file, extract metadata from filename and first and last timestamps.\"\"\"\n",
    "#     locations = [locs for locs in os.listdir(path) if os.path.isdir(os.path.join(path, locs))]\n",
    "    list = []\n",
    "\n",
    "    for root, dirs, files in os.walk(path, topdown=True):\n",
    "        for filenames in files:\n",
    "            if filenames.endswith('.csv'):\n",
    "                p = pathlib.Path(os.path.join(root, filenames))\n",
    "                name = str(p.relative_to(path)).split(\"\\\\\")[0]\n",
    "    #             series = series.append(name)\n",
    "                list.append(name)\n",
    "\n",
    "    df = pd.DataFrame(list,columns=['subjid'])\n"
   ]
  },
  {
   "cell_type": "markdown",
   "metadata": {},
   "source": [
    "## Get all filenames"
   ]
  },
  {
   "cell_type": "code",
   "execution_count": 317,
   "metadata": {
    "ExecuteTime": {
     "end_time": "2018-09-27T20:06:33.230027Z",
     "start_time": "2018-09-27T20:06:33.135348Z"
    }
   },
   "outputs": [],
   "source": [
    "# df = pd.DataFrame(columns = 'subjid')\n",
    "# series = pd.Series()\n",
    "list = []\n",
    "\n",
    "for root, dirs, files in os.walk(path, topdown=True):\n",
    "    for filenames in files:\n",
    "        if filenames.endswith('.csv'):\n",
    "            p = pathlib.Path(os.path.join(root, filenames))\n",
    "            name = str(p.relative_to(path)).split(\"\\\\\")[0]\n",
    "#             series = series.append(name)\n",
    "            list.append(name)\n",
    "\n",
    "# check session name\n",
    "# colnames = ['subjid', 'session', 'activity']\n",
    "# # list\n",
    "# df = pd.DataFrame(np.column_stack([list, list, list]),columns=colnames)\n",
    "df = pd.DataFrame({'filename':list})\n",
    "\n",
    "# use list (has file names), open file and extract start and stop timestamps\n",
    "# make 2 columns and add to df"
   ]
  },
  {
   "cell_type": "code",
   "execution_count": 318,
   "metadata": {
    "ExecuteTime": {
     "end_time": "2018-09-27T20:06:34.180392Z",
     "start_time": "2018-09-27T20:06:34.175405Z"
    }
   },
   "outputs": [
    {
     "data": {
      "text/html": [
       "<div>\n",
       "<style scoped>\n",
       "    .dataframe tbody tr th:only-of-type {\n",
       "        vertical-align: middle;\n",
       "    }\n",
       "\n",
       "    .dataframe tbody tr th {\n",
       "        vertical-align: top;\n",
       "    }\n",
       "\n",
       "    .dataframe thead th {\n",
       "        text-align: right;\n",
       "    }\n",
       "</style>\n",
       "<table border=\"1\" class=\"dataframe\">\n",
       "  <thead>\n",
       "    <tr style=\"text-align: right;\">\n",
       "      <th></th>\n",
       "      <th>filename</th>\n",
       "    </tr>\n",
       "  </thead>\n",
       "  <tbody>\n",
       "    <tr>\n",
       "      <th>0</th>\n",
       "      <td>1003_0_Drnkg.csv</td>\n",
       "    </tr>\n",
       "    <tr>\n",
       "      <th>1</th>\n",
       "      <td>1003_0_Drwg.csv</td>\n",
       "    </tr>\n",
       "    <tr>\n",
       "      <th>2</th>\n",
       "      <td>1003_0_Fldg.csv</td>\n",
       "    </tr>\n",
       "  </tbody>\n",
       "</table>\n",
       "</div>"
      ],
      "text/plain": [
       "           filename\n",
       "0  1003_0_Drnkg.csv\n",
       "1   1003_0_Drwg.csv\n",
       "2   1003_0_Fldg.csv"
      ]
     },
     "execution_count": 318,
     "metadata": {},
     "output_type": "execute_result"
    }
   ],
   "source": [
    "df.head(3)"
   ]
  },
  {
   "cell_type": "code",
   "execution_count": 319,
   "metadata": {
    "ExecuteTime": {
     "end_time": "2018-09-27T20:06:35.954827Z",
     "start_time": "2018-09-27T20:06:35.950839Z"
    }
   },
   "outputs": [
    {
     "data": {
      "text/plain": [
       "'1003_0_Drnkg.csv'"
      ]
     },
     "execution_count": 319,
     "metadata": {},
     "output_type": "execute_result"
    }
   ],
   "source": [
    "df.filename[0]"
   ]
  },
  {
   "cell_type": "code",
   "execution_count": 320,
   "metadata": {
    "ExecuteTime": {
     "end_time": "2018-09-27T20:06:36.611996Z",
     "start_time": "2018-09-27T20:06:36.607009Z"
    }
   },
   "outputs": [
    {
     "data": {
      "text/plain": [
       "0    1003_0_Drnkg.csv\n",
       "1     1003_0_Drwg.csv\n",
       "Name: filename, dtype: object"
      ]
     },
     "execution_count": 320,
     "metadata": {},
     "output_type": "execute_result"
    }
   ],
   "source": [
    "df.filename[0:2][0:4]"
   ]
  },
  {
   "cell_type": "markdown",
   "metadata": {},
   "source": [
    "## Split filename into separate columns"
   ]
  },
  {
   "cell_type": "code",
   "execution_count": 321,
   "metadata": {
    "ExecuteTime": {
     "end_time": "2018-09-27T20:06:39.031219Z",
     "start_time": "2018-09-27T20:06:39.024238Z"
    }
   },
   "outputs": [],
   "source": [
    "temp = pd.DataFrame(df.filename.str.replace('\\.csv',''))"
   ]
  },
  {
   "cell_type": "code",
   "execution_count": 322,
   "metadata": {
    "ExecuteTime": {
     "end_time": "2018-09-27T20:06:39.971040Z",
     "start_time": "2018-09-27T20:06:39.967050Z"
    }
   },
   "outputs": [],
   "source": [
    "temp.filename = temp.filename.str.split('_')"
   ]
  },
  {
   "cell_type": "code",
   "execution_count": 323,
   "metadata": {
    "ExecuteTime": {
     "end_time": "2018-09-27T20:06:40.803049Z",
     "start_time": "2018-09-27T20:06:40.799060Z"
    }
   },
   "outputs": [],
   "source": [
    "id_list = []\n",
    "time_list = []\n",
    "task_list = []\n",
    "for j,k,l in temp.filename:\n",
    "    id_list.append(j)\n",
    "    time_list.append(k)\n",
    "    task_list.append(l)"
   ]
  },
  {
   "cell_type": "code",
   "execution_count": 324,
   "metadata": {
    "ExecuteTime": {
     "end_time": "2018-09-27T20:06:41.860393Z",
     "start_time": "2018-09-27T20:06:41.855410Z"
    }
   },
   "outputs": [],
   "source": [
    "subjid = np.asarray(id_list)\n",
    "time = np.asarray(time_list)\n",
    "task = np.asarray(task_list)\n",
    "df['subjid'] = subjid\n",
    "df['time'] = time\n",
    "df['task'] = task"
   ]
  },
  {
   "cell_type": "markdown",
   "metadata": {},
   "source": [
    "## Extract start/stop timestamps"
   ]
  },
  {
   "cell_type": "code",
   "execution_count": 326,
   "metadata": {
    "ExecuteTime": {
     "end_time": "2018-09-27T20:09:48.824856Z",
     "start_time": "2018-09-27T20:07:43.935232Z"
    }
   },
   "outputs": [],
   "source": [
    "# empty lists\n",
    "start = []\n",
    "stop = []\n",
    "\n",
    "# extract start and stop timeframes in each file (which is each task)\n",
    "for i in df.filename:\n",
    "    filename = i\n",
    "    tempfile = pd.read_csv(os.path.join(path,filename))\n",
    "    start.append(tempfile.timestamp.iloc[0])\n",
    "    stop.append(tempfile.timestamp.iloc[-1])  "
   ]
  },
  {
   "cell_type": "code",
   "execution_count": 327,
   "metadata": {
    "ExecuteTime": {
     "end_time": "2018-09-27T20:10:47.028619Z",
     "start_time": "2018-09-27T20:10:47.022636Z"
    }
   },
   "outputs": [],
   "source": [
    "# add columns to df\n",
    "start = np.asarray(start)\n",
    "stop = np.asarray(stop)\n",
    "df['start timestamp'] = start\n",
    "df['stop timestamp'] = stop"
   ]
  },
  {
   "cell_type": "markdown",
   "metadata": {},
   "source": [
    "## Change time to full name"
   ]
  },
  {
   "cell_type": "code",
   "execution_count": 329,
   "metadata": {
    "ExecuteTime": {
     "end_time": "2018-09-27T20:10:54.820993Z",
     "start_time": "2018-09-27T20:10:54.815010Z"
    }
   },
   "outputs": [],
   "source": [
    "oldname = ['0','1','2','3','4','5','6']\n",
    "newname = ['2 Weeks: Time 0', \n",
    "           '2 Weeks: Time 30', \n",
    "           '2 Weeks: Time 60', \n",
    "           '2 Weeks: Time 90', \n",
    "           '2 Weeks: Time 120', \n",
    "           '2 Weeks: Time 150', \n",
    "           '1 Month']\n",
    "namechange = dict(zip(oldname, newname))\n",
    "df = df.replace({'time':namechange})"
   ]
  },
  {
   "cell_type": "markdown",
   "metadata": {},
   "source": [
    "## Convert task short name to full name"
   ]
  },
  {
   "cell_type": "code",
   "execution_count": 330,
   "metadata": {
    "ExecuteTime": {
     "end_time": "2018-09-27T20:10:56.131805Z",
     "start_time": "2018-09-27T20:10:56.126785Z"
    }
   },
   "outputs": [],
   "source": [
    "key = ['Shaking', 'Stndg', 'Wlkg', 'WlkgCnt', 'FtnR', 'FtnL', 'RamR', 'RamL', 'SitStand', \n",
    "       'Drwg', 'Typg', 'NtsBts', 'Drnkg', 'Sheets', 'Fldg', 'Sitng']\n",
    "value = ['Shaking','Standing','Walking','Walking while counting',\n",
    "         'Finger to nose--right hand', 'Finger to nose--left hand',\n",
    "         'Alternating right hand movements', 'Alternating left hand movements',\n",
    "         'Sit to stand','Drawing on a paper',\n",
    "         'Typing on a computer keyboard','Assembling nuts and bolts',\n",
    "         'Taking a glass of water and drinking','Organizing sheets in a folder',\n",
    "         'Folding towels','Sitting']\n",
    "name_dict = dict(zip(key,value))\n",
    "df.task = df.task.map(name_dict)"
   ]
  },
  {
   "cell_type": "markdown",
   "metadata": {},
   "source": [
    "## Delete filename column"
   ]
  },
  {
   "cell_type": "code",
   "execution_count": 331,
   "metadata": {
    "ExecuteTime": {
     "end_time": "2018-09-27T20:10:57.745601Z",
     "start_time": "2018-09-27T20:10:57.742610Z"
    }
   },
   "outputs": [],
   "source": [
    "del df['filename']"
   ]
  },
  {
   "cell_type": "markdown",
   "metadata": {},
   "source": [
    "## Change colomn names"
   ]
  },
  {
   "cell_type": "code",
   "execution_count": 332,
   "metadata": {
    "ExecuteTime": {
     "end_time": "2018-09-27T20:11:00.049494Z",
     "start_time": "2018-09-27T20:11:00.046502Z"
    }
   },
   "outputs": [],
   "source": [
    "df.columns = ['SubjID', 'Visit', 'Task', 'Start Timestamp (UTC)', 'Stop Timestamp (UTC)']"
   ]
  },
  {
   "cell_type": "code",
   "execution_count": 333,
   "metadata": {
    "ExecuteTime": {
     "end_time": "2018-09-27T20:11:01.493524Z",
     "start_time": "2018-09-27T20:11:01.486543Z"
    }
   },
   "outputs": [
    {
     "data": {
      "text/html": [
       "<div>\n",
       "<style scoped>\n",
       "    .dataframe tbody tr th:only-of-type {\n",
       "        vertical-align: middle;\n",
       "    }\n",
       "\n",
       "    .dataframe tbody tr th {\n",
       "        vertical-align: top;\n",
       "    }\n",
       "\n",
       "    .dataframe thead th {\n",
       "        text-align: right;\n",
       "    }\n",
       "</style>\n",
       "<table border=\"1\" class=\"dataframe\">\n",
       "  <thead>\n",
       "    <tr style=\"text-align: right;\">\n",
       "      <th></th>\n",
       "      <th>SubjID</th>\n",
       "      <th>Visit</th>\n",
       "      <th>Task</th>\n",
       "      <th>Start Timestamp (UTC)</th>\n",
       "      <th>Stop Timestamp (UTC)</th>\n",
       "    </tr>\n",
       "  </thead>\n",
       "  <tbody>\n",
       "    <tr>\n",
       "      <th>0</th>\n",
       "      <td>1003</td>\n",
       "      <td>2 Weeks: Time 0</td>\n",
       "      <td>Taking a glass of water and drinking</td>\n",
       "      <td>2017-07-03 15:52:57.090</td>\n",
       "      <td>2017-07-03 15:53:32.788</td>\n",
       "    </tr>\n",
       "  </tbody>\n",
       "</table>\n",
       "</div>"
      ],
      "text/plain": [
       "  SubjID            Visit                                  Task  \\\n",
       "0   1003  2 Weeks: Time 0  Taking a glass of water and drinking   \n",
       "\n",
       "     Start Timestamp (UTC)     Stop Timestamp (UTC)  \n",
       "0  2017-07-03 15:52:57.090  2017-07-03 15:53:32.788  "
      ]
     },
     "execution_count": 333,
     "metadata": {},
     "output_type": "execute_result"
    }
   ],
   "source": [
    "df.head(1)"
   ]
  },
  {
   "cell_type": "markdown",
   "metadata": {},
   "source": [
    "## Save as csv file"
   ]
  },
  {
   "cell_type": "code",
   "execution_count": 338,
   "metadata": {
    "ExecuteTime": {
     "end_time": "2018-09-27T20:14:32.557815Z",
     "start_time": "2018-09-27T20:14:32.478112Z"
    }
   },
   "outputs": [],
   "source": [
    "savepath = r'//FS2.smpp.local\\RTO\\CIS-PD Study\\MJFF Curation'\n",
    "finalname = os.path.join(savepath,'task_timestamp.csv')\n",
    "with open(finalname,'wb') as f:\n",
    "    df.to_csv(finalname, sep=',')"
   ]
  },
  {
   "cell_type": "markdown",
   "metadata": {},
   "source": [
    "# Notes for Table 2 and 3\n",
    "Table 1 - sensor info\n",
    "- Sensor locations - 10\n",
    "- Sensor types (at each location) - ECG, Gyro, Accel\n",
    "- sampling frequency (for each sensor type)\n",
    "- ranges?\n",
    "- Description of landmarks for sensor placement\n",
    "\n",
    "Table 2\n",
    "- Sensor location and serial # for each participant"
   ]
  },
  {
   "cell_type": "markdown",
   "metadata": {
    "heading_collapsed": true
   },
   "source": [
    "# Table 2 - sensor info"
   ]
  },
  {
   "cell_type": "markdown",
   "metadata": {
    "hidden": true
   },
   "source": [
    "Notes\n",
    "\n",
    "MC10 sensor locations\n",
    "Medial Chest\n",
    "Right Arm\n",
    "Left Arm\n",
    "Right Thigh\n",
    "Left Thigh\n",
    "Right Shank\n",
    "Left Shank\n",
    "Back\n",
    "Right Hand\n",
    "Left Hand\n",
    "array(['anterior_thigh_left', 'anterior_thigh_right',\n",
    "       'distal_lateral_shank_left', 'distal_lateral_shank_right',\n",
    "       'dorsal_hand_left', 'dorsal_hand_right', 'flexor_digitorum_left',\n",
    "       'flexor_digitorum_right', 'medial_chest', 'sacrum'], dtype=object)\n",
    "\n",
    "Description of landmarks\n",
    "Medial Chest - Halfway between base of throat and bottom of sternum (xiphoid process)\n",
    "- Readable Left to Right\n",
    "Right Arm (Wrist Flexors)\n",
    "- Thick end proximal\n",
    "- Patient: Flex Wrist\n",
    "- On top of Wrist Flexors\n",
    "Left Arm (Wrist Flexors)\n",
    "Right Thigh (proximal of Epicondyles)\n",
    "- Thick end proximal\n",
    "- Patient: Stand Up\n",
    "- Proximal of Femur Epicondyles\n",
    "Left Thigh (proximal of Epicondyles)\n",
    "Right Shank (along fibula, proximal of Lateral Malleolus)\n",
    "- Thick end proximal\n",
    "- Patient: Sit Down\n",
    "- Proximal of Fibular\n",
    "- Lateral Malleolus\n",
    "Left Shank (along fibula, proximal of Lateral Malleolus)\n",
    "Back - (slightly superior of Posterior Superior Iliac Spine (PSIS))\n",
    "- Readable Left to Right\n",
    "- Superior of Posterior Superior Iliac Spine (PSIS)\n",
    "Right Hand - thick end away from thumb\n",
    "- Thick end medial\n",
    "- Pointing away from thumb\n",
    "- Parallel to wrist joint\n",
    "Left Hand - thick end away from thumb\n"
   ]
  },
  {
   "cell_type": "markdown",
   "metadata": {
    "hidden": true
   },
   "source": [
    "Refer to PD Study Sensor Guide for info\n",
    "Path: CIS-PD Study/PD Sensor Guides"
   ]
  },
  {
   "cell_type": "markdown",
   "metadata": {
    "hidden": true
   },
   "source": [
    "Sampling frequency for each sensor location\n",
    "\n",
    "Medial Chest\n",
    "- ECG 1 kHz\n",
    "- Accel 31.25 Hz\n",
    "Right Arm (Wrist Flexors)\n",
    "- ECG 1 kHz\n",
    "- Accel 31.25 Hz\n",
    "Left Arm (Wrist Flexors)\n",
    "- ECG 1 kHz\n",
    "- Accel 31.25 Hz\n",
    "Right Thigh (proximal of Epicondyles)\n",
    "- Gyro 62.5 Hz\n",
    "- Accel 62.5 Hz\n",
    "Left Thigh (proximal of Epicondyles)\n",
    "- Gyro 62.5 Hz\n",
    "- Accel 62.5 Hz\n",
    "Right Shank (along fibula, proximal of Lateral Malleolus)\n",
    "- Gyro 62.5 Hz\n",
    "- Accel 62.5 Hz\n",
    "Left Shank (along fibula, proximal of Lateral Malleolus)\n",
    "- Gyro 62.5 Hz\n",
    "- Accel 62.5 Hz\n",
    "Back - (slightly superior of Posterior Superior Iliac Spine (PSIS))\n",
    "- Gyro 62.5 Hz\n",
    "- Accel 62.5 Hz\n",
    "Right Hand - thick end away from thumb\n",
    "- Gyro 62.5 Hz\n",
    "- Accel 62.5 Hz\n",
    "Left Hand - thick end away from thumb\n",
    "- Gyro 62.5 Hz\n",
    "- Accel 62.5 Hz"
   ]
  },
  {
   "cell_type": "code",
   "execution_count": 311,
   "metadata": {
    "ExecuteTime": {
     "end_time": "2018-09-26T15:18:14.413489Z",
     "start_time": "2018-09-26T15:18:14.406507Z"
    },
    "hidden": true
   },
   "outputs": [],
   "source": [
    "# sensorlocs = ['Medial Chest','Medial Chest',\n",
    "#                 'Right Arm','Right Arm',\n",
    "#                 'Left Arm','Left Arm',\n",
    "#                 'Right Thigh','Right Thigh',\n",
    "#                 'Left Thigh','Left Thigh',\n",
    "#                 'Right Shank','Right Shank',\n",
    "#                 'Left Shank','Left Shank',\n",
    "#                 'Back','Back',\n",
    "#                 'Right Hand','Right Hand',\n",
    "#                 'Left Hand','Left Hand']\n",
    "\n",
    "# Use this list to stay consistent\n",
    "# sensor name\n",
    "sensorlocs = ['medial_chest', 'medial_chest',\n",
    "              'flexor_digitorum_right','flexor_digitorum_right',\n",
    "              'flexor_digitorum_left','flexor_digitorum_left',\n",
    "              'anterior_thigh_right','anterior_thigh_right',\n",
    "              'anterior_thigh_left', 'anterior_thigh_left',\n",
    "              'distal_lateral_shank_right','distal_lateral_shank_right',\n",
    "              'distal_lateral_shank_left','distal_lateral_shank_left',\n",
    "              'sacrum','sacrum',\n",
    "              'dorsal_hand_right', 'dorsal_hand_right',\n",
    "              'dorsal_hand_left', 'dorsal_hand_left']\n",
    "\n",
    "# sensor type\n",
    "type1 = ['ECG', 'Accel']*3\n",
    "type2 = ['Gyro', 'Accel']*7\n",
    "sensortype = type1 + type2\n",
    "\n",
    "# sensor frequency\n",
    "freq1 = [1000, 31.25]*3\n",
    "freq2 = [62.5]*2*7\n",
    "freq = freq1 + freq2\n",
    "\n",
    "# landmarks\n",
    "# medial_chest - Halfway between base of throat and bottom of sternum (xiphoid process)\n",
    "landmark = ['Halfway between base of throat and bottom of sternum (xiphoid process)',\n",
    "            'Halfway between base of throat and bottom of sternum (xiphoid process)',\n",
    "# flexor_digitorum_right (Wrist Flexors)\n",
    "            'On top of Wrist Flexors',\n",
    "            'On top of Wrist Flexors',\n",
    "# flexor_digitorum_left(Wrist Flexors)\n",
    "            'On top of Wrist Flexors',\n",
    "            'On top of Wrist Flexors',\n",
    "# anterior_thigh_right (proximal of Epicondyles)\n",
    "            'Proximal of Femur Epicondyles',\n",
    "            'Proximal of Femur Epicondyles',\n",
    "# anterior_thigh_left (proximal of Epicondyles)\n",
    "            'Proximal of Femur Epicondyles',\n",
    "            'Proximal of Femur Epicondyles',\n",
    "# distal_lateral_shank_right (along fibula, proximal of Lateral Malleolus)\n",
    "            'Proximal of Fibular Lateral Malleolus',\n",
    "            'Proximal of Fibular Lateral Malleolus',\n",
    "# distal_lateral_shank_left (along fibula, proximal of Lateral Malleolus)\n",
    "            'Proximal of Fibular Lateral Malleolus',\n",
    "            'Proximal of Fibular Lateral Malleolus',\n",
    "# sacrum - (slightly superior of Posterior Superior Iliac Spine (PSIS))\n",
    "            'Superior of Posterior Superior Iliac Spine (PSIS)',\n",
    "            'Superior of Posterior Superior Iliac Spine (PSIS)',\n",
    "# dorsal_hand_right - thick end away from thumb\n",
    "            'Pointing away from thumb, Parallel to wrist joint',\n",
    "            'Pointing away from thumb, Parallel to wrist joint',\n",
    "# dorsal_hand_left - thick end away from thumb\n",
    "            'Pointing away from thumb, Parallel to wrist joint',\n",
    "            'Pointing away from thumb, Parallel to wrist joint']\n",
    "\n",
    "# name of columns\n",
    "colnames = ['Sensor Location','Sensor Type','Frequency (Hz)','Description of Landmarks']\n"
   ]
  },
  {
   "cell_type": "code",
   "execution_count": 313,
   "metadata": {
    "ExecuteTime": {
     "end_time": "2018-09-26T15:19:44.699271Z",
     "start_time": "2018-09-26T15:19:44.695255Z"
    },
    "hidden": true
   },
   "outputs": [],
   "source": [
    "# sensordf = pd.DataFrame(templist, columns=colnames)\n",
    "sensordf = pd.DataFrame({'Sensor Location':sensorlocs,\n",
    "                         'Sensor Type':sensortype,\n",
    "                         'Frequency (Hz)':freq,\n",
    "                         'Description of Landmarks':landmark})"
   ]
  },
  {
   "cell_type": "code",
   "execution_count": 314,
   "metadata": {
    "ExecuteTime": {
     "end_time": "2018-09-26T15:19:58.216480Z",
     "start_time": "2018-09-26T15:19:58.181472Z"
    },
    "hidden": true
   },
   "outputs": [],
   "source": [
    "savepath = r'//FS2.smpp.local\\RTO\\CIS-PD Study\\MJFF Curation'\n",
    "finalname = os.path.join(savepath,'sensor_info.csv')\n",
    "with open(finalname,'wb') as f:\n",
    "    sensordf.to_csv(finalname, sep=',')"
   ]
  },
  {
   "cell_type": "code",
   "execution_count": null,
   "metadata": {
    "ExecuteTime": {
     "end_time": "2018-09-26T15:20:05.373843Z",
     "start_time": "2018-09-26T15:20:05.364867Z"
    },
    "hidden": true
   },
   "outputs": [],
   "source": [
    "# check output\n",
    "sensordf"
   ]
  },
  {
   "cell_type": "markdown",
   "metadata": {},
   "source": [
    "# Table 3 - sensor location, sensor serial #\n",
    "- save the date info (remove later if not needed)"
   ]
  },
  {
   "cell_type": "code",
   "execution_count": 241,
   "metadata": {
    "ExecuteTime": {
     "end_time": "2018-09-26T13:56:53.737208Z",
     "start_time": "2018-09-26T13:56:49.972309Z"
    }
   },
   "outputs": [],
   "source": [
    "# walk path down and grab subjid, sensor location, and serial #\n",
    "table3path = r'//FS2.smpp.local\\RTO\\CIS-PD Study\\Subjects'\n",
    "\n",
    "list = []\n",
    "\n",
    "for root, dirs, files in os.walk(table3path, topdown=True):\n",
    "    for d in dirs:\n",
    "        p = pathlib.Path(os.path.join(root, d))\n",
    "        list.append(str(p))\n"
   ]
  },
  {
   "cell_type": "code",
   "execution_count": 276,
   "metadata": {
    "ExecuteTime": {
     "end_time": "2018-09-26T14:29:09.798204Z",
     "start_time": "2018-09-26T14:29:09.795214Z"
    }
   },
   "outputs": [],
   "source": [
    "# split list such that each element is a subfolder\n",
    "splitlist = [l.split(\"\\\\\") for l in list]"
   ]
  },
  {
   "cell_type": "code",
   "execution_count": 279,
   "metadata": {
    "ExecuteTime": {
     "end_time": "2018-09-26T14:32:18.837848Z",
     "start_time": "2018-09-26T14:32:18.833858Z"
    }
   },
   "outputs": [],
   "source": [
    "templist = []\n",
    "for i, j in enumerate(splitlist):\n",
    "    if len(j)==4:\n",
    "        templist.append(j)"
   ]
  },
  {
   "cell_type": "code",
   "execution_count": 285,
   "metadata": {
    "ExecuteTime": {
     "end_time": "2018-09-26T14:35:51.878446Z",
     "start_time": "2018-09-26T14:35:51.874457Z"
    }
   },
   "outputs": [],
   "source": [
    "colnames = ['SubjID','Sensor Location','Serial Number','Timestamp (UTC)']\n",
    "df = pd.DataFrame(templist, columns=colnames)"
   ]
  },
  {
   "cell_type": "code",
   "execution_count": null,
   "metadata": {},
   "outputs": [],
   "source": [
    "# check df\n",
    "df"
   ]
  },
  {
   "cell_type": "code",
   "execution_count": 288,
   "metadata": {
    "ExecuteTime": {
     "end_time": "2018-09-26T14:36:39.237351Z",
     "start_time": "2018-09-26T14:36:39.233362Z"
    }
   },
   "outputs": [
    {
     "data": {
      "text/plain": [
       "'anterior thigh left'"
      ]
     },
     "execution_count": 288,
     "metadata": {},
     "output_type": "execute_result"
    }
   ],
   "source": [
    "##############\n",
    "# optional\n",
    "##############\n",
    "# replace _ with ' '\n",
    "df['Sensor Location'][0].replace('_', ' ')"
   ]
  },
  {
   "cell_type": "code",
   "execution_count": 289,
   "metadata": {
    "ExecuteTime": {
     "end_time": "2018-09-26T14:39:31.738823Z",
     "start_time": "2018-09-26T14:39:31.695941Z"
    }
   },
   "outputs": [],
   "source": [
    "savepath = r'//FS2.smpp.local\\RTO\\CIS-PD Study\\MJFF Curation'\n",
    "finalname = os.path.join(savepath,'sensor_serialnum.csv')\n",
    "with open(finalname,'wb') as f:\n",
    "    df.to_csv(finalname, sep=',')"
   ]
  }
 ],
 "metadata": {
  "kernelspec": {
   "display_name": "Python 3",
   "language": "python",
   "name": "python3"
  },
  "language_info": {
   "codemirror_mode": {
    "name": "ipython",
    "version": 3
   },
   "file_extension": ".py",
   "mimetype": "text/x-python",
   "name": "python",
   "nbconvert_exporter": "python",
   "pygments_lexer": "ipython3",
   "version": "3.6.5"
  }
 },
 "nbformat": 4,
 "nbformat_minor": 2
}
